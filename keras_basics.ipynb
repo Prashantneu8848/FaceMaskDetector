{
 "cells": [
  {
   "cell_type": "markdown",
   "metadata": {},
   "source": [
    "# Basics of Keras in Tensorflow"
   ]
  },
  {
   "cell_type": "code",
   "execution_count": 1,
   "metadata": {},
   "outputs": [],
   "source": [
    "import numpy as np\n",
    "from random import randint\n",
    "from sklearn.utils import shuffle\n",
    "from sklearn.preprocessing import MinMaxScaler"
   ]
  },
  {
   "cell_type": "markdown",
   "metadata": {},
   "source": [
    "* The data is custom made for a hypotethical clinical new drug test in 2100 individuals which consists a group of people who are younger than 65 years of age and another group with equal number of people who are 65 years of age or older.\n",
    "* Around 95% of patients who are 65 and older exprienced side effects.\n",
    "* Around 95% of pateints who are under 65 years of age experienced no side effects.\n"
   ]
  },
  {
   "cell_type": "code",
   "execution_count": 2,
   "metadata": {},
   "outputs": [],
   "source": [
    "X = [] # input data\n",
    "Y = [] # label"
   ]
  },
  {
   "cell_type": "code",
   "execution_count": 3,
   "metadata": {},
   "outputs": [],
   "source": [
    "# Creating the outliers\n",
    "total_patients = 2100\n",
    "no_of_outliers = int(5 / 100 * total_patients / 2)\n",
    "for i in range(no_of_outliers):\n",
    "    # ~5% of young patients who experienced side effects.\n",
    "    random_young_age_patient = randint(13, 64)\n",
    "    X.append(random_young_age_patient)\n",
    "    Y.append(1)\n",
    "    \n",
    "    # ~5% of old patients who did not experience side effects\n",
    "    random_old_age_patient = randint(65, 100)\n",
    "    X.append(random_old_age_patient)\n",
    "    Y.append(1)"
   ]
  },
  {
   "cell_type": "code",
   "execution_count": 4,
   "metadata": {},
   "outputs": [],
   "source": [
    "# Rest of patients apart from outliers\n",
    "no_of_non_outliers = 2100 - no_of_outliers\n",
    "for i in range(no_of_non_outliers):\n",
    "    # ~95% of young patients who did not experience side effetcs.\n",
    "    random_young_age_patient = randint(13, 64)\n",
    "    X.append(random_young_age_patient)\n",
    "    Y.append(0)\n",
    "    \n",
    "    # ~95% of old patients who experienced side effects.\n",
    "    random_old_age_patient = randint(65, 100)\n",
    "    X.append(random_old_age_patient)\n",
    "    Y.append(1)"
   ]
  },
  {
   "cell_type": "code",
   "execution_count": 5,
   "metadata": {},
   "outputs": [],
   "source": [
    "# Converting the lists to np arrays.\n",
    "X = np.array(X)\n",
    "Y = np.array(Y)\n",
    "X, Y = shuffle(X, Y)"
   ]
  },
  {
   "cell_type": "code",
   "execution_count": 6,
   "metadata": {},
   "outputs": [],
   "source": [
    "scaler = MinMaxScaler(feature_range = (0, 1))\n",
    "# data should not be 1D for fit_transfor\n",
    "scaled_X = scaler.fit_transform(X.reshape(-1, 1))"
   ]
  },
  {
   "source": [
    "### Simple tf.keras Sequnetial Model"
   ],
   "cell_type": "markdown",
   "metadata": {}
  },
  {
   "cell_type": "code",
   "execution_count": 15,
   "metadata": {},
   "outputs": [],
   "source": [
    "import tensorflow as tf\n",
    "from tensorflow import keras\n",
    "from tensorflow.keras.models import Sequential\n",
    "from tensorflow.keras.layers import Activation, Dense\n",
    "from tensorflow.keras.optimizers import Adam\n",
    "from tensorflow.keras.metrics import categorical_crossentropy"
   ]
  },
  {
   "cell_type": "code",
   "execution_count": 16,
   "metadata": {},
   "outputs": [
    {
     "output_type": "stream",
     "name": "stdout",
     "text": [
      "No Of GPUs =  0\n"
     ]
    }
   ],
   "source": [
    "physical_devices = tf.config.experimental.list_logical_devices('GPU')\n",
    "print(\"No Of GPUs = \", len(physical_devices))\n",
    "if len(physical_devices) != 0:\n",
    "    tf.config.experimental.set_memory_growth(physical_devices[0], True)"
   ]
  },
  {
   "cell_type": "code",
   "execution_count": 20,
   "metadata": {},
   "outputs": [],
   "source": [
    "# Creating Fully Connected Layers. \n",
    "model = Sequential([\n",
    "    Dense(units = 16, input_shape = (1, ), activation = 'relu'),\n",
    "    Dense(units = 32, activation = 'relu'),\n",
    "    Dense(units = 2, activation = 'softmax')\n",
    "])"
   ]
  },
  {
   "cell_type": "code",
   "execution_count": 22,
   "metadata": {},
   "outputs": [
    {
     "output_type": "stream",
     "name": "stdout",
     "text": [
      "Model: \"sequential_2\"\n_________________________________________________________________\nLayer (type)                 Output Shape              Param #   \n=================================================================\ndense_6 (Dense)              (None, 16)                32        \n_________________________________________________________________\ndense_7 (Dense)              (None, 32)                544       \n_________________________________________________________________\ndense_8 (Dense)              (None, 2)                 66        \n=================================================================\nTotal params: 642\nTrainable params: 642\nNon-trainable params: 0\n_________________________________________________________________\n"
     ]
    }
   ],
   "source": [
    "model.summary()"
   ]
  },
  {
   "cell_type": "code",
   "execution_count": 23,
   "metadata": {},
   "outputs": [],
   "source": [
    "model.compile(optimizer = Adam(learning_rate=0.001), loss='sparse_categorical_crossentropy', metrics= ['accuracy'])"
   ]
  },
  {
   "cell_type": "code",
   "execution_count": 25,
   "metadata": {},
   "outputs": [
    {
     "output_type": "stream",
     "name": "stdout",
     "text": [
      "Epoch 1/30\n",
      "420/420 - 0s - loss: 0.1209 - accuracy: 0.9619\n",
      "Epoch 2/30\n",
      "420/420 - 0s - loss: 0.1086 - accuracy: 0.9700\n",
      "Epoch 3/30\n",
      "420/420 - 0s - loss: 0.1087 - accuracy: 0.9698\n",
      "Epoch 4/30\n",
      "420/420 - 0s - loss: 0.1074 - accuracy: 0.9683\n",
      "Epoch 5/30\n",
      "420/420 - 0s - loss: 0.1024 - accuracy: 0.9714\n",
      "Epoch 6/30\n",
      "420/420 - 0s - loss: 0.1045 - accuracy: 0.9681\n",
      "Epoch 7/30\n",
      "420/420 - 0s - loss: 0.1038 - accuracy: 0.9683\n",
      "Epoch 8/30\n",
      "420/420 - 0s - loss: 0.1011 - accuracy: 0.9705\n",
      "Epoch 9/30\n",
      "420/420 - 0s - loss: 0.0995 - accuracy: 0.9710\n",
      "Epoch 10/30\n",
      "420/420 - 0s - loss: 0.1003 - accuracy: 0.9714\n",
      "Epoch 11/30\n",
      "420/420 - 0s - loss: 0.0974 - accuracy: 0.9729\n",
      "Epoch 12/30\n",
      "420/420 - 0s - loss: 0.1035 - accuracy: 0.9667\n",
      "Epoch 13/30\n",
      "420/420 - 0s - loss: 0.0989 - accuracy: 0.9695\n",
      "Epoch 14/30\n",
      "420/420 - 0s - loss: 0.0991 - accuracy: 0.9700\n",
      "Epoch 15/30\n",
      "420/420 - 0s - loss: 0.0998 - accuracy: 0.9681\n",
      "Epoch 16/30\n",
      "420/420 - 0s - loss: 0.1007 - accuracy: 0.9674\n",
      "Epoch 17/30\n",
      "420/420 - 0s - loss: 0.0907 - accuracy: 0.9755\n",
      "Epoch 18/30\n",
      "420/420 - 0s - loss: 0.0934 - accuracy: 0.9726\n",
      "Epoch 19/30\n",
      "420/420 - 0s - loss: 0.0916 - accuracy: 0.9705\n",
      "Epoch 20/30\n",
      "420/420 - 0s - loss: 0.1025 - accuracy: 0.9679\n",
      "Epoch 21/30\n",
      "420/420 - 0s - loss: 0.0935 - accuracy: 0.9721\n",
      "Epoch 22/30\n",
      "420/420 - 0s - loss: 0.0873 - accuracy: 0.9748\n",
      "Epoch 23/30\n",
      "420/420 - 0s - loss: 0.0828 - accuracy: 0.9771\n",
      "Epoch 24/30\n",
      "420/420 - 0s - loss: 0.0978 - accuracy: 0.9681\n",
      "Epoch 25/30\n",
      "420/420 - 0s - loss: 0.0929 - accuracy: 0.9724\n",
      "Epoch 26/30\n",
      "420/420 - 0s - loss: 0.0950 - accuracy: 0.9698\n",
      "Epoch 27/30\n",
      "420/420 - 0s - loss: 0.0852 - accuracy: 0.9764\n",
      "Epoch 28/30\n",
      "420/420 - 0s - loss: 0.0939 - accuracy: 0.9707\n",
      "Epoch 29/30\n",
      "420/420 - 0s - loss: 0.0885 - accuracy: 0.9717\n",
      "Epoch 30/30\n",
      "420/420 - 0s - loss: 0.0926 - accuracy: 0.9712\n"
     ]
    },
    {
     "output_type": "execute_result",
     "data": {
      "text/plain": [
       "<tensorflow.python.keras.callbacks.History at 0x149929f70>"
      ]
     },
     "metadata": {},
     "execution_count": 25
    }
   ],
   "source": [
    "model.fit(x=X, y=Y, batch_size=10, epochs=30, verbose=2)"
   ]
  },
  {
   "cell_type": "code",
   "execution_count": null,
   "metadata": {},
   "outputs": [],
   "source": []
  }
 ],
 "metadata": {
  "kernelspec": {
   "name": "python3",
   "display_name": "Python 3.8.5 64-bit ('venv')",
   "metadata": {
    "interpreter": {
     "hash": "fcc737b363411580ea172084c094e2e1eefa42828519be385196b71d21cf9a7c"
    }
   }
  },
  "language_info": {
   "codemirror_mode": {
    "name": "ipython",
    "version": 3
   },
   "file_extension": ".py",
   "mimetype": "text/x-python",
   "name": "python",
   "nbconvert_exporter": "python",
   "pygments_lexer": "ipython3",
   "version": "3.8.5-final"
  }
 },
 "nbformat": 4,
 "nbformat_minor": 4
}