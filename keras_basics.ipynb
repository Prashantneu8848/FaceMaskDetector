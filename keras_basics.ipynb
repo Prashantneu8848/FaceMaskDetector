{
 "cells": [
  {
   "cell_type": "markdown",
   "metadata": {},
   "source": [
    "# Basics of Keras in Tensorflow"
   ]
  },
  {
   "cell_type": "code",
   "execution_count": 1,
   "metadata": {},
   "outputs": [],
   "source": [
    "import numpy as np\n",
    "from random import randint\n",
    "from sklearn.utils import shuffle\n",
    "from sklearn.preprocessing import MinMaxScaler"
   ]
  },
  {
   "cell_type": "markdown",
   "metadata": {},
   "source": [
    "* The data is custom made for a hypotethical clinical new drug test in 2100 individuals which consists a group of people who are younger than 65 years of age and another group with equal number of people who are 65 years of age or older.\n",
    "* Around 95% of patients who are 65 and older exprienced side effects.\n",
    "* Around 95% of pateints who are under 65 years of age experienced no side effects.\n"
   ]
  },
  {
   "cell_type": "code",
   "execution_count": 2,
   "metadata": {},
   "outputs": [],
   "source": [
    "X = [] # input data\n",
    "Y = [] # label"
   ]
  },
  {
   "cell_type": "code",
   "execution_count": 3,
   "metadata": {},
   "outputs": [],
   "source": [
    "# Creating the outliers\n",
    "total_patients = 2100\n",
    "no_of_outliers = int(5 / 100 * total_patients / 2)\n",
    "for i in range(no_of_outliers):\n",
    "    # ~5% of young patients who experienced side effects.\n",
    "    random_young_age_patient = randint(13, 64)\n",
    "    X.append(random_young_age_patient)\n",
    "    Y.append(1)\n",
    "    \n",
    "    # ~5% of old patients who did not experience side effects\n",
    "    random_old_age_patient = randint(65, 100)\n",
    "    X.append(random_old_age_patient)\n",
    "    Y.append(1)"
   ]
  },
  {
   "cell_type": "code",
   "execution_count": 4,
   "metadata": {},
   "outputs": [],
   "source": [
    "# Rest of patients apart from outliers\n",
    "no_of_non_outliers = 2100 - no_of_outliers\n",
    "for i in range(no_of_non_outliers):\n",
    "    # ~95% of young patients who did not experience side effetcs.\n",
    "    random_young_age_patient = randint(13, 64)\n",
    "    X.append(random_young_age_patient)\n",
    "    Y.append(0)\n",
    "    \n",
    "    # ~95% of old patients who experienced side effects.\n",
    "    random_old_age_patient = randint(65, 100)\n",
    "    X.append(random_old_age_patient)\n",
    "    Y.append(1)"
   ]
  },
  {
   "cell_type": "code",
   "execution_count": 5,
   "metadata": {},
   "outputs": [],
   "source": [
    "# Converting the lists to np arrays.\n",
    "X = np.array(X)\n",
    "Y = np.array(Y)\n",
    "X, Y = shuffle(X, Y)"
   ]
  },
  {
   "cell_type": "code",
   "execution_count": null,
   "metadata": {},
   "outputs": [],
   "source": [
    "X_test = []\n",
    "Y_test = []\n",
    "\n",
    "for i in range(no_of_outliers):\n",
    "    # ~5% of young patients who experienced side effects.\n",
    "    random_young_age_patient = randint(13, 64)\n",
    "    X_test.append(random_young_age_patient)\n",
    "    Y_test.append(1)\n",
    "    \n",
    "    # ~5% of old patients who did not experience side effects\n",
    "    random_old_age_patient = randint(65, 100)\n",
    "    X_test.append(random_old_age_patient)\n",
    "    Y_test.append(1)\n",
    "\n",
    "for i in range(200):\n",
    "    # ~95% of young patients who did not experience side effetcs.\n",
    "    random_young_age_patient = randint(13, 64)\n",
    "    X_test.append(random_young_age_patient)\n",
    "    Y_test.append(0)\n",
    "    \n",
    "    # ~95% of old patients who experienced side effects.\n",
    "    random_old_age_patient = randint(65, 100)\n",
    "    X_test.append(random_old_age_patient)\n",
    "    Y_test.append(1)"
   ]
  },
  {
   "cell_type": "code",
   "execution_count": null,
   "metadata": {},
   "outputs": [],
   "source": [
    "X_test = np.array(X_test)\n",
    "Y_test = np.array(Y_test)\n",
    "X_test, Y_test = shuffle(X_test, Y_test)"
   ]
  },
  {
   "cell_type": "code",
   "execution_count": 6,
   "metadata": {},
   "outputs": [],
   "source": [
    "scaler = MinMaxScaler(feature_range = (0, 1))\n",
    "# data should not be 1D for fit_transfor\n",
    "scaled_X = scaler.fit_transform(X.reshape(-1, 1))\n",
    "scaled_X_test = scaler.fit_transform(X_test.reshape(-1, 1))"
   ]
  },
  {
   "source": [
    "### Simple tf.keras Sequnetial Model"
   ],
   "cell_type": "markdown",
   "metadata": {}
  },
  {
   "cell_type": "code",
   "execution_count": 7,
   "metadata": {},
   "outputs": [],
   "source": [
    "import tensorflow as tf\n",
    "from tensorflow import keras\n",
    "from tensorflow.keras.models import Sequential\n",
    "from tensorflow.keras.layers import Activation, Dense\n",
    "from tensorflow.keras.optimizers import Adam\n",
    "from tensorflow.keras.metrics import categorical_crossentropy"
   ]
  },
  {
   "cell_type": "code",
   "execution_count": 8,
   "metadata": {},
   "outputs": [
    {
     "output_type": "stream",
     "name": "stdout",
     "text": [
      "No Of GPUs =  0\n"
     ]
    }
   ],
   "source": [
    "physical_devices = tf.config.experimental.list_logical_devices('GPU')\n",
    "print(\"No Of GPUs = \", len(physical_devices))\n",
    "if len(physical_devices) != 0:\n",
    "    tf.config.experimental.set_memory_growth(physical_devices[0], True)"
   ]
  },
  {
   "cell_type": "code",
   "execution_count": 9,
   "metadata": {},
   "outputs": [],
   "source": [
    "# Creating Fully Connected Layers. \n",
    "model = Sequential([\n",
    "    Dense(units = 16, input_shape = (1, ), activation = 'relu'),\n",
    "    Dense(units = 32, activation = 'relu'),\n",
    "    Dense(units = 2, activation = 'softmax')\n",
    "])"
   ]
  },
  {
   "cell_type": "code",
   "execution_count": 10,
   "metadata": {},
   "outputs": [
    {
     "output_type": "stream",
     "name": "stdout",
     "text": [
      "Model: \"sequential\"\n_________________________________________________________________\nLayer (type)                 Output Shape              Param #   \n=================================================================\ndense (Dense)                (None, 16)                32        \n_________________________________________________________________\ndense_1 (Dense)              (None, 32)                544       \n_________________________________________________________________\ndense_2 (Dense)              (None, 2)                 66        \n=================================================================\nTotal params: 642\nTrainable params: 642\nNon-trainable params: 0\n_________________________________________________________________\n"
     ]
    }
   ],
   "source": [
    "model.summary()"
   ]
  },
  {
   "cell_type": "code",
   "execution_count": 11,
   "metadata": {},
   "outputs": [],
   "source": [
    "model.compile(optimizer = Adam(learning_rate=0.001), loss='sparse_categorical_crossentropy', metrics= ['accuracy'])"
   ]
  },
  {
   "cell_type": "code",
   "execution_count": 13,
   "metadata": {},
   "outputs": [
    {
     "output_type": "stream",
     "name": "stdout",
     "text": [
      "Epoch 1/30\n",
      "378/378 - 1s - loss: 0.5537 - accuracy: 0.7003 - val_loss: 0.4227 - val_accuracy: 0.8095\n",
      "Epoch 2/30\n",
      "378/378 - 0s - loss: 0.3594 - accuracy: 0.8698 - val_loss: 0.4388 - val_accuracy: 0.7690\n",
      "Epoch 3/30\n",
      "378/378 - 0s - loss: 0.2618 - accuracy: 0.9153 - val_loss: 0.2027 - val_accuracy: 0.9238\n",
      "Epoch 4/30\n",
      "378/378 - 0s - loss: 0.2147 - accuracy: 0.9307 - val_loss: 0.1772 - val_accuracy: 0.9024\n",
      "Epoch 5/30\n",
      "378/378 - 0s - loss: 0.1962 - accuracy: 0.9317 - val_loss: 0.1558 - val_accuracy: 0.9833\n",
      "Epoch 6/30\n",
      "378/378 - 0s - loss: 0.1799 - accuracy: 0.9463 - val_loss: 0.2742 - val_accuracy: 0.8714\n",
      "Epoch 7/30\n",
      "378/378 - 0s - loss: 0.1743 - accuracy: 0.9431 - val_loss: 0.1432 - val_accuracy: 0.9381\n",
      "Epoch 8/30\n",
      "378/378 - 0s - loss: 0.1701 - accuracy: 0.9418 - val_loss: 0.2497 - val_accuracy: 0.8810\n",
      "Epoch 9/30\n",
      "378/378 - 0s - loss: 0.1776 - accuracy: 0.9365 - val_loss: 0.1337 - val_accuracy: 0.9881\n",
      "Epoch 10/30\n",
      "378/378 - 0s - loss: 0.1540 - accuracy: 0.9561 - val_loss: 0.1254 - val_accuracy: 0.9738\n",
      "Epoch 11/30\n",
      "378/378 - 0s - loss: 0.1625 - accuracy: 0.9484 - val_loss: 0.1992 - val_accuracy: 0.9119\n",
      "Epoch 12/30\n",
      "378/378 - 0s - loss: 0.1568 - accuracy: 0.9534 - val_loss: 0.1205 - val_accuracy: 0.9833\n",
      "Epoch 13/30\n",
      "378/378 - 0s - loss: 0.1551 - accuracy: 0.9548 - val_loss: 0.1493 - val_accuracy: 0.9238\n",
      "Epoch 14/30\n",
      "378/378 - 0s - loss: 0.1518 - accuracy: 0.9516 - val_loss: 0.1322 - val_accuracy: 0.9667\n",
      "Epoch 15/30\n",
      "378/378 - 0s - loss: 0.1546 - accuracy: 0.9508 - val_loss: 0.1155 - val_accuracy: 0.9833\n",
      "Epoch 16/30\n",
      "378/378 - 0s - loss: 0.1618 - accuracy: 0.9418 - val_loss: 0.1230 - val_accuracy: 0.9500\n",
      "Epoch 17/30\n",
      "378/378 - 0s - loss: 0.1527 - accuracy: 0.9511 - val_loss: 0.1152 - val_accuracy: 0.9619\n",
      "Epoch 18/30\n",
      "378/378 - 0s - loss: 0.1545 - accuracy: 0.9484 - val_loss: 0.1252 - val_accuracy: 0.9500\n",
      "Epoch 19/30\n",
      "378/378 - 0s - loss: 0.1369 - accuracy: 0.9577 - val_loss: 0.1530 - val_accuracy: 0.9452\n",
      "Epoch 20/30\n",
      "378/378 - 0s - loss: 0.1463 - accuracy: 0.9526 - val_loss: 0.1113 - val_accuracy: 0.9738\n",
      "Epoch 21/30\n",
      "378/378 - 0s - loss: 0.1306 - accuracy: 0.9624 - val_loss: 0.1050 - val_accuracy: 0.9881\n",
      "Epoch 22/30\n",
      "378/378 - 0s - loss: 0.1390 - accuracy: 0.9529 - val_loss: 0.1043 - val_accuracy: 0.9833\n",
      "Epoch 23/30\n",
      "378/378 - 0s - loss: 0.1310 - accuracy: 0.9593 - val_loss: 0.1408 - val_accuracy: 0.9381\n",
      "Epoch 24/30\n",
      "378/378 - 0s - loss: 0.1398 - accuracy: 0.9537 - val_loss: 0.2012 - val_accuracy: 0.8976\n",
      "Epoch 25/30\n",
      "378/378 - 0s - loss: 0.1286 - accuracy: 0.9587 - val_loss: 0.1076 - val_accuracy: 0.9619\n",
      "Epoch 26/30\n",
      "378/378 - 0s - loss: 0.1304 - accuracy: 0.9598 - val_loss: 0.3033 - val_accuracy: 0.8881\n",
      "Epoch 27/30\n",
      "378/378 - 0s - loss: 0.1334 - accuracy: 0.9556 - val_loss: 0.2362 - val_accuracy: 0.8929\n",
      "Epoch 28/30\n",
      "378/378 - 0s - loss: 0.1281 - accuracy: 0.9571 - val_loss: 0.0981 - val_accuracy: 0.9833\n",
      "Epoch 29/30\n",
      "378/378 - 0s - loss: 0.1325 - accuracy: 0.9516 - val_loss: 0.1085 - val_accuracy: 0.9667\n",
      "Epoch 30/30\n",
      "378/378 - 0s - loss: 0.1206 - accuracy: 0.9601 - val_loss: 0.0972 - val_accuracy: 0.9881\n"
     ]
    },
    {
     "output_type": "execute_result",
     "data": {
      "text/plain": [
       "<tensorflow.python.keras.callbacks.History at 0x146a87220>"
      ]
     },
     "metadata": {},
     "execution_count": 13
    }
   ],
   "source": [
    "model.fit(x=X, y=Y, batch_size=10, validation_split = 0.1, epochs=30, shuffle = True, verbose=2)"
   ]
  },
  {
   "cell_type": "code",
   "execution_count": null,
   "metadata": {},
   "outputs": [],
   "source": []
  }
 ],
 "metadata": {
  "kernelspec": {
   "name": "python3",
   "display_name": "Python 3.8.5 64-bit ('venv')",
   "metadata": {
    "interpreter": {
     "hash": "fcc737b363411580ea172084c094e2e1eefa42828519be385196b71d21cf9a7c"
    }
   }
  },
  "language_info": {
   "codemirror_mode": {
    "name": "ipython",
    "version": 3
   },
   "file_extension": ".py",
   "mimetype": "text/x-python",
   "name": "python",
   "nbconvert_exporter": "python",
   "pygments_lexer": "ipython3",
   "version": "3.8.5-final"
  }
 },
 "nbformat": 4,
 "nbformat_minor": 4
}